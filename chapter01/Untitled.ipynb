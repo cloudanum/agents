{
 "cells": [
  {
   "cell_type": "code",
   "execution_count": 1,
   "id": "9b966297-a150-41c4-9343-ab21638eb7ba",
   "metadata": {},
   "outputs": [
    {
     "ename": "RuntimeError",
     "evalue": "OPENAI_API_KEY is not set",
     "output_type": "error",
     "traceback": [
      "\u001b[31m---------------------------------------------------------------------------\u001b[39m",
      "\u001b[31mRuntimeError\u001b[39m                              Traceback (most recent call last)",
      "\u001b[36mCell\u001b[39m\u001b[36m \u001b[39m\u001b[32mIn[1]\u001b[39m\u001b[32m, line 7\u001b[39m\n\u001b[32m      5\u001b[39m api_key = os.getenv(\u001b[33m\"\u001b[39m\u001b[33mOPENAI_API_KEY\u001b[39m\u001b[33m\"\u001b[39m)\n\u001b[32m      6\u001b[39m \u001b[38;5;28;01mif\u001b[39;00m \u001b[38;5;129;01mnot\u001b[39;00m api_key:\n\u001b[32m----> \u001b[39m\u001b[32m7\u001b[39m     \u001b[38;5;28;01mraise\u001b[39;00m \u001b[38;5;167;01mRuntimeError\u001b[39;00m(\u001b[33m\"\u001b[39m\u001b[33mOPENAI_API_KEY is not set\u001b[39m\u001b[33m\"\u001b[39m)\n\u001b[32m      9\u001b[39m \u001b[38;5;66;03m# Create the client\u001b[39;00m\n\u001b[32m     10\u001b[39m client = OpenAI(api_key=api_key)\n",
      "\u001b[31mRuntimeError\u001b[39m: OPENAI_API_KEY is not set"
     ]
    }
   ],
   "source": [
    "import os\n",
    "from openai import OpenAI\n",
    "\n",
    "# Read the key from the environment variable\n",
    "api_key = os.getenv(\"OPENAI_API_KEY\")\n",
    "if not api_key:\n",
    "    raise RuntimeError(\"OPENAI_API_KEY is not set\")\n",
    "\n",
    "# Create the client\n",
    "client = OpenAI(api_key=api_key)\n",
    "\n",
    "try:\n",
    "    # Make a simple request: list available models\n",
    "    models = client.models.list()\n",
    "    print(\"✅ Successfully connected. Found models:\")\n",
    "    for m in models.data[:5]:\n",
    "        print(\" -\", m.id)\n",
    "except Exception as e:\n",
    "    print(\"❌ Something went wrong:\", e)\n"
   ]
  },
  {
   "cell_type": "code",
   "execution_count": null,
   "id": "83da078d-98f5-4fb9-bcb7-472d44ddc15b",
   "metadata": {},
   "outputs": [],
   "source": []
  }
 ],
 "metadata": {
  "kernelspec": {
   "display_name": "Python (agent-venv)",
   "language": "python",
   "name": "agent-venv"
  },
  "language_info": {
   "codemirror_mode": {
    "name": "ipython",
    "version": 3
   },
   "file_extension": ".py",
   "mimetype": "text/x-python",
   "name": "python",
   "nbconvert_exporter": "python",
   "pygments_lexer": "ipython3",
   "version": "3.12.3"
  }
 },
 "nbformat": 4,
 "nbformat_minor": 5
}
