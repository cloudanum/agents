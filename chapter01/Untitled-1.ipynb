{
 "cells": [
  {
   "cell_type": "code",
   "execution_count": null,
   "id": "f6e2d5a9",
   "metadata": {},
   "outputs": [],
   "source": [
    "a = 36"
   ]
  },
  {
   "cell_type": "code",
   "execution_count": null,
   "id": "616b3f05",
   "metadata": {},
   "outputs": [],
   "source": []
  }
 ],
 "metadata": {
  "language_info": {
   "name": "python"
  }
 },
 "nbformat": 4,
 "nbformat_minor": 5
}
