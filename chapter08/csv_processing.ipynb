{
 "cells": [
  {
   "cell_type": "markdown",
   "id": "174e1b0c",
   "metadata": {},
   "source": [
    "# CSV Processing with Python\n",
    "\n",
    "This notebook demonstrates different approaches to CSV file processing in Python using both the built-in `csv` module and `pandas`. We'll cover:\n",
    "\n",
    "1. Reading CSV files with `csv.reader`\n",
    "2. Processing CSV data with `pandas`\n",
    "3. Writing CSV files with different formatting options"
   ]
  },
  {
   "cell_type": "markdown",
   "id": "6b140bad",
   "metadata": {},
   "source": [
    "## Setup\n",
    "\n",
    "First, let's import the required libraries and create a sample CSV file to work with."
   ]
  },
  {
   "cell_type": "code",
   "execution_count": null,
   "id": "1a2b77d6",
   "metadata": {},
   "outputs": [],
   "source": [
    "# Import required libraries\n",
    "import pandas as pd\n",
    "import csv\n",
    "\n",
    "# Create a sample CSV file\n",
    "sample_data = \"\"\"name,age,city\n",
    "John,25,New York\n",
    "Alice,30,San Francisco\n",
    "Bob,35,Chicago\"\"\"\n",
    "\n",
    "with open('read.txt', 'w') as f:\n",
    "    f.write(sample_data)"
   ]
  },
  {
   "cell_type": "markdown",
   "id": "844bcb21",
   "metadata": {},
   "source": [
    "## Reading CSV with csv.reader\n",
    "\n",
    "Let's first read the CSV file using Python's built-in `csv.reader`. This approach is useful for simple row-by-row processing."
   ]
  },
  {
   "cell_type": "code",
   "execution_count": null,
   "id": "5740323c",
   "metadata": {},
   "outputs": [],
   "source": [
    "# Read and display rows using csv.reader\n",
    "with open('read.txt', newline='') as csvfile:\n",
    "    reader = csv.reader(csvfile)\n",
    "    for row in reader:\n",
    "        print(row)"
   ]
  },
  {
   "cell_type": "markdown",
   "id": "63f9268d",
   "metadata": {},
   "source": [
    "## Reading CSV with pandas\n",
    "\n",
    "Now let's read the same file using `pandas`, which provides more advanced data manipulation capabilities."
   ]
  },
  {
   "cell_type": "code",
   "execution_count": null,
   "id": "2dcbf86f",
   "metadata": {},
   "outputs": [],
   "source": [
    "# Read and display data using pandas\n",
    "data = pd.read_csv('read.txt')\n",
    "print(data)"
   ]
  },
  {
   "cell_type": "markdown",
   "id": "15db8499",
   "metadata": {},
   "source": [
    "## Writing CSV Files\n",
    "\n",
    "Finally, let's write our DataFrame to CSV files in two different formats:\n",
    "1. With headers (write.txt)\n",
    "2. Without headers (write_no_header.txt)"
   ]
  },
  {
   "cell_type": "code",
   "execution_count": null,
   "id": "19bcda55",
   "metadata": {},
   "outputs": [],
   "source": [
    "# Write CSV files with different options\n",
    "data.to_csv('write.txt', index=False)  # With headers\n",
    "data.to_csv('write_no_header.txt', index=False, header=False)  # Without headers\n",
    "\n",
    "# Verify the contents of both files\n",
    "print(\"Contents of write.txt:\")\n",
    "with open('write.txt', 'r') as f:\n",
    "    print(f.read())\n",
    "\n",
    "print(\"\\nContents of write_no_header.txt:\")\n",
    "with open('write_no_header.txt', 'r') as f:\n",
    "    print(f.read())"
   ]
  }
 ],
 "metadata": {
  "kernelspec": {
   "display_name": "Python 3 (ipykernel)",
   "language": "python",
   "name": "python3"
  },
  "language_info": {
   "codemirror_mode": {
    "name": "ipython",
    "version": 3
   },
   "file_extension": ".py",
   "mimetype": "text/x-python",
   "name": "python",
   "nbconvert_exporter": "python",
   "pygments_lexer": "ipython3",
   "version": "3.12.3"
  }
 },
 "nbformat": 4,
 "nbformat_minor": 5
}
